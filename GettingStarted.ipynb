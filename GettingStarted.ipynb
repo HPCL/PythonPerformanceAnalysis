{
 "cells": [
  {
   "cell_type": "markdown",
   "metadata": {},
   "source": [
    "## Setting up a performance analysis software environment\n",
    "\n",
    "This notebook guides you in the installation of the minimal set of software packages required to run the Simple notebook. It assumes that you have C and C++ compilers installed, e.g., gcc.\n",
    "\n",
    "1. Create a project directory, e.g, `$HOME/performance`, and continue the following steps inside that project directory, `$PROJECT_DIR`."
   ]
  },
  {
   "cell_type": "markdown",
   "metadata": {},
   "source": [
    "2. Install [TAU Commander](http://taucommander.paratools.com/). This also installs Miniconda3 and several python packages we will need later.\n",
    "```\n",
    "cd $PROJECT_DIR\n",
    "git clone --branch unstable https://github.com/ParaToolsInc/taucmdr.git taucmdr-unstable\n",
    "cd taucmdr-unstable\n",
    "make install \n",
    "```\n",
    "\n",
    "\n",
    " You should add the TAU Commander binary directory to your path:\n",
    "```\n",
    "export PATH=$PROJECT_DIR/taucmdr/bin:$PATH\n",
    "```"
   ]
  },
  {
   "cell_type": "markdown",
   "metadata": {},
   "source": [
    "3. Configure your Conda environment for the newly installed Miniconda3 (under your taucmdr directory): \n",
    "\n",
    "```\n",
    "MYSHELL=`basename $SHELL`\n",
    "$PROJECT_DIR/taucmdr/installed/conda/bin/conda init $MYSHELL\n",
    "exec $MYSHELL\n",
    "$PROJECT_DIR/taucmdr/installed/conda/bin/conda install matplotlib\n",
    "```"
   ]
  },
  {
   "cell_type": "markdown",
   "metadata": {},
   "source": [
    "4. Install Hatchet:\n",
    "```\n",
    "cd $PROJECT_DIR\n",
    "git clone https://github.com/LLNL/hatchet.git\n",
    "cd hatchet\n",
    "./install.sh\n",
    "```"
   ]
  },
  {
   "cell_type": "markdown",
   "metadata": {},
   "source": [
    "5. Test your installation:"
   ]
  },
  {
   "cell_type": "code",
   "execution_count": null,
   "metadata": {},
   "outputs": [],
   "source": []
  }
 ],
 "metadata": {
  "kernelspec": {
   "display_name": "Python 3",
   "language": "python",
   "name": "python3"
  },
  "language_info": {
   "codemirror_mode": {
    "name": "ipython",
    "version": 3
   },
   "file_extension": ".py",
   "mimetype": "text/x-python",
   "name": "python",
   "nbconvert_exporter": "python",
   "pygments_lexer": "ipython3",
   "version": "3.8.3"
  }
 },
 "nbformat": 4,
 "nbformat_minor": 4
}
