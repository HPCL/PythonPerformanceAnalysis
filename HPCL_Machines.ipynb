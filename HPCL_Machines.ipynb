{
 "cells": [
  {
   "cell_type": "markdown",
   "metadata": {},
   "source": [
    "# Performance measurement and analysis on HPCL machines\n",
    "\n",
    "These instructions assume that you have an account on the HPCL servers, where most of the tool you require have already been installed. If you need to install TAU and other tools somewhere else, please follow the instructions in the [Getting Started](GettingStarted.ipynb) notebook.\n",
    "\n",
    "To see a list of available modules on each system, use the `module avail` command. To load all modules required for using TAU Commander (with TAU and PAPI) and Hatchet, do\n",
    "\n",
    "```\n",
    "module load perf\n",
    "```"
   ]
  },
  {
   "cell_type": "markdown",
   "metadata": {},
   "source": [
    "Next, you need to set up your python environment using the Conda installation in the perf module. To do that, run:\n",
    "\n",
    "```\n",
    "conda init\n",
    "```\n",
    "\n",
    "The changes will take effect in a new shell, so you can log out and log in again, or simply run\n",
    "\n",
    "```\n",
    "exec bash\n",
    "```\n",
    "\n",
    "You should see a slightly different prompt, starting with `(base)`, e.g.:\n",
    "```\n",
    "$ exec bash\n",
    "(base) username@arya:~$ \n",
    "```"
   ]
  },
  {
   "cell_type": "markdown",
   "metadata": {},
   "source": [
    "You are now ready to use TAU Commander and Hatchet as described in the [Getting Started](GettingStarted.ipynb) notebook without having to install any tools."
   ]
  }
 ],
 "metadata": {
  "kernelspec": {
   "display_name": "Python 3",
   "language": "python",
   "name": "python3"
  },
  "language_info": {
   "codemirror_mode": {
    "name": "ipython",
    "version": 3
   },
   "file_extension": ".py",
   "mimetype": "text/x-python",
   "name": "python",
   "nbconvert_exporter": "python",
   "pygments_lexer": "ipython3",
   "version": "3.8.3"
  }
 },
 "nbformat": 4,
 "nbformat_minor": 4
}
