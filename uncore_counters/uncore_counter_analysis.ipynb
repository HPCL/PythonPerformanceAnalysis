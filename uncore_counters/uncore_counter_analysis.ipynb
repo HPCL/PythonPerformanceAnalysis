{
 "cells": [
  {
   "cell_type": "markdown",
   "metadata": {
    "id": "SNvfZSKpkiI6"
   },
   "source": [
    "## Read data from json files and save to a CSV"
   ]
  },
  {
   "cell_type": "code",
   "execution_count": 1,
   "metadata": {
    "colab": {
     "base_uri": "https://localhost:8080/",
     "height": 235
    },
    "id": "agnP9ItzkYjm",
    "outputId": "b5fdef93-0512-4b57-b0ee-fed785ccfa9a"
   },
   "outputs": [
    {
     "ename": "FileNotFoundError",
     "evalue": "ignored",
     "output_type": "error",
     "traceback": [
      "\u001b[0;31m---------------------------------------------------------------------------\u001b[0m",
      "\u001b[0;31mFileNotFoundError\u001b[0m                         Traceback (most recent call last)",
      "\u001b[0;32m<ipython-input-1-93bc5575774b>\u001b[0m in \u001b[0;36m<module>\u001b[0;34m()\u001b[0m\n\u001b[1;32m     49\u001b[0m         \u001b[0mindex\u001b[0m \u001b[0;34m=\u001b[0m \u001b[0;36m0\u001b[0m\u001b[0;34m\u001b[0m\u001b[0;34m\u001b[0m\u001b[0m\n\u001b[1;32m     50\u001b[0m         \u001b[0;32mfor\u001b[0m \u001b[0mcounter\u001b[0m \u001b[0;32min\u001b[0m \u001b[0mcounters\u001b[0m\u001b[0;34m:\u001b[0m\u001b[0;34m\u001b[0m\u001b[0;34m\u001b[0m\u001b[0m\n\u001b[0;32m---> 51\u001b[0;31m             \u001b[0mf\u001b[0m \u001b[0;34m=\u001b[0m \u001b[0mopen\u001b[0m\u001b[0;34m(\u001b[0m\u001b[0mbind\u001b[0m \u001b[0;34m+\u001b[0m \u001b[0;34m\" \"\u001b[0m \u001b[0;34m+\u001b[0m \u001b[0mplaces\u001b[0m \u001b[0;34m+\u001b[0m \u001b[0;34m'/cali_p2z_omp_t10/cali_'\u001b[0m \u001b[0;34m+\u001b[0m \u001b[0mcounter\u001b[0m \u001b[0;34m+\u001b[0m \u001b[0;34m'.json'\u001b[0m\u001b[0;34m)\u001b[0m\u001b[0;34m\u001b[0m\u001b[0;34m\u001b[0m\u001b[0m\n\u001b[0m\u001b[1;32m     52\u001b[0m             \u001b[0mdata\u001b[0m \u001b[0;34m=\u001b[0m \u001b[0mjson\u001b[0m\u001b[0;34m.\u001b[0m\u001b[0mload\u001b[0m\u001b[0;34m(\u001b[0m\u001b[0mf\u001b[0m\u001b[0;34m)\u001b[0m\u001b[0;34m\u001b[0m\u001b[0;34m\u001b[0m\u001b[0m\n\u001b[1;32m     53\u001b[0m             \u001b[0mindex\u001b[0m \u001b[0;34m=\u001b[0m \u001b[0;36m0\u001b[0m\u001b[0;34m\u001b[0m\u001b[0;34m\u001b[0m\u001b[0m\n",
      "\u001b[0;31mFileNotFoundError\u001b[0m: [Errno 2] No such file or directory: 'close cores/cali_p2z_omp_t10/cali_skx_unc_imc0::UNC_M_CAS_COUNT:RD:cpu=0.json'"
     ]
    }
   ],
   "source": [
    "import json\n",
    "import csv\n",
    "from os import close, read\n",
    "import pandas as pd\n",
    "from csv import writer\n",
    "\n",
    " \n",
    "OMP_PROC_BIND = ['close', 'spread']\n",
    "OMP_PLACES = ['cores', 'sockets', 'threads']\n",
    "\n",
    "counters = [       \"skx_unc_imc0::UNC_M_CAS_COUNT:RD:cpu=0\",\n",
    "                   \"skx_unc_imc1::UNC_M_CAS_COUNT:RD:cpu=0\",\n",
    "                   \"skx_unc_imc2::UNC_M_CAS_COUNT:RD:cpu=0\",\n",
    "                   \"skx_unc_imc3::UNC_M_CAS_COUNT:RD:cpu=0\",\n",
    "                   \"skx_unc_imc4::UNC_M_CAS_COUNT:RD:cpu=0\",\n",
    "                   \"skx_unc_imc5::UNC_M_CAS_COUNT:RD:cpu=0\",\n",
    "                   \"skx_unc_imc0::UNC_M_CAS_COUNT:RD:cpu=23\",\n",
    "                   \"skx_unc_imc1::UNC_M_CAS_COUNT:RD:cpu=23\",\n",
    "                   \"skx_unc_imc2::UNC_M_CAS_COUNT:RD:cpu=23\",\n",
    "                   \"skx_unc_imc3::UNC_M_CAS_COUNT:RD:cpu=23\",\n",
    "                   \"skx_unc_imc4::UNC_M_CAS_COUNT:RD:cpu=23\",\n",
    "                   \"skx_unc_imc5::UNC_M_CAS_COUNT:RD:cpu=23\",\n",
    "                   \"skx_unc_imc0::UNC_M_CAS_COUNT:WR:cpu=0\",\n",
    "                   \"skx_unc_imc1::UNC_M_CAS_COUNT:WR:cpu=0\",\n",
    "                   \"skx_unc_imc2::UNC_M_CAS_COUNT:WR:cpu=0\",\n",
    "                   \"skx_unc_imc3::UNC_M_CAS_COUNT:WR:cpu=0\",\n",
    "                   \"skx_unc_imc4::UNC_M_CAS_COUNT:WR:cpu=0\",\n",
    "                   \"skx_unc_imc5::UNC_M_CAS_COUNT:WR:cpu=0\", \n",
    "                   \"skx_unc_imc0::UNC_M_CAS_COUNT:WR:cpu=23\",\n",
    "                   \"skx_unc_imc1::UNC_M_CAS_COUNT:WR:cpu=23\",\n",
    "                   \"skx_unc_imc2::UNC_M_CAS_COUNT:WR:cpu=23\",\n",
    "                   \"skx_unc_imc3::UNC_M_CAS_COUNT:WR:cpu=23\",\n",
    "                   \"skx_unc_imc4::UNC_M_CAS_COUNT:WR:cpu=23\",\n",
    "                   \"skx_unc_imc5::UNC_M_CAS_COUNT:WR:cpu=23\"\n",
    "]\n",
    "\n",
    "column_name = ['Read', 'Write']\n",
    "with open('results.csv', 'a') as f:\n",
    "    writer = csv.writer(f)\n",
    "    writer.writerow(column_name)\n",
    "\n",
    "for bind in OMP_PROC_BIND:\n",
    "    for places in OMP_PLACES:\n",
    "        snapshot1 = []\n",
    "        snapshot2 = []\n",
    "        snapshot3 = []\n",
    "        snapshot4 = []\n",
    "        snapshot5 = []\n",
    "        index = 0\n",
    "        for counter in counters:\n",
    "            f = open(bind + \" \" + places + '/cali_p2z_omp_t10/cali_' + counter + '.json')\n",
    "            data = json.load(f)\n",
    "            index = 0\n",
    "            for i in data:\n",
    "                if 'event.end#annotation' in i:\n",
    "                    if index == 0:\n",
    "                        snapshot1.append(i['papi.' + counter])\n",
    "                    elif index == 1:\n",
    "                        snapshot2.append(i['papi.' + counter])\n",
    "                    elif index == 2:\n",
    "                        snapshot3.append(i['papi.' + counter])\n",
    "                    elif index == 3:\n",
    "                        snapshot4.append(i['papi.' + counter])\n",
    "                    elif index == 4:\n",
    "                        snapshot5.append(i['papi.' + counter])\n",
    "                    index+=1\n",
    "\n",
    "        def Average(lst):\n",
    "            return sum(lst) / len(lst)\n",
    "\n",
    "        def sum_of_list(l):\n",
    "            total = 0\n",
    "            for val in l:\n",
    "                total = total + val\n",
    "            return total\n",
    "\n",
    "        sum = []\n",
    "\n",
    "\n",
    "        with open('data.csv', 'a') as f:\n",
    "                writer = csv.writer(f)\n",
    "                writer.writerow(counters)\n",
    "                writer.writerow(snapshot1)\n",
    "                writer.writerow(snapshot2)\n",
    "                writer.writerow(snapshot3)\n",
    "                writer.writerow(snapshot4)\n",
    "                writer.writerow(snapshot5)\n",
    "\n",
    "                \n",
    "        df = pd.read_csv(\"data.csv\", usecols = counters)\n",
    "        for counter in counters:\n",
    "            sum.append(df[counter].sum() * 64)\n",
    "\n",
    "        lst = []\n",
    "        lst1  = sum[0:12]\n",
    "        lst2  = sum[12:24]\n",
    "        lst.append(sum_of_list(lst1))\n",
    "        lst.append(sum_of_list(lst2))\n",
    "\n",
    "        tmp = []\n",
    "        with open('results.csv', 'a') as f:\n",
    "            writer = csv.writer(f)\n",
    "            writer.writerow(lst)\n",
    "\n",
    "        import os\n",
    "        os.remove(\"data.csv\")"
   ]
  },
  {
   "cell_type": "markdown",
   "metadata": {
    "id": "q00JjpsFk1eP"
   },
   "source": [
    "## Create Bar Charts"
   ]
  },
  {
   "cell_type": "code",
   "execution_count": null,
   "metadata": {
    "id": "zMgunsa_k4AZ"
   },
   "outputs": [],
   "source": [
    "import numpy as np \n",
    "import matplotlib.pyplot as plt \n",
    "  \n",
    "\n",
    "df = pd.read_csv(\"results.csv\", names=column_name)\n",
    "print(df)\n",
    "\n",
    "read_bytes = df.Read.to_list()\n",
    "write_bytes = df.Write.to_list()\n",
    "read_bytes.remove('Read')\n",
    "write_bytes.remove('Write')\n",
    "\n",
    "print(read_bytes)\n",
    "print(write_bytes)\n",
    "\n",
    "X = ['Close Cores','Close Sockets','Close Threads','Spread Cores','Spread Sockets','Spread Threads']\n",
    "X_axis = np.arange(len(X))\n",
    "  \n",
    "plt.bar(X_axis - 0.2, write_bytes, 0.4, label = 'Write')\n",
    "plt.bar(X_axis + 0.2, read_bytes, 0.4, label = 'Read')\n",
    "  \n",
    "plt.xticks(X_axis, X)\n",
    "plt.xlabel(\"Groups\")\n",
    "plt.ylabel(\"Number of Bytes\")\n",
    "plt.title(\"OpenMP ICC 10 Threads\")\n",
    "plt.legend()\n",
    "plt.show()\n",
    "\n",
    "import os\n",
    "os.remove(\"results.csv\")"
   ]
  }
 ],
 "metadata": {
  "colab": {
   "collapsed_sections": [],
   "name": "uncoreCounterAnalysis.ipynb",
   "provenance": []
  },
  "kernelspec": {
   "display_name": "Python 3 (ipykernel)",
   "language": "python",
   "name": "python3"
  },
  "language_info": {
   "name": "python"
  }
 },
 "nbformat": 4,
 "nbformat_minor": 1
}
