{
 "cells": [
  {
   "cell_type": "markdown",
   "metadata": {},
   "source": [
    "# Simple Performance Analysis with TAU Commander and Hatchet\n",
    "\n",
    "This notebook guides you through a simple performance analysis use case that measures time with [http://taucommander.paratools.com/](TAU Commander) and then manipulates the data using [https://github.com/LLNL/hatchet](Hatchet).\n",
    "\n",
    "## Set up your environment\n",
    "\n",
    "First, follow the Getting Started instructions in the [README](README.md) which will create a complete stand-alone installation of TAU Commander and Hatchet. Do not forget to add the `installation/bin` directory to your `PATH` as recommended at the end of a successful install. \n",
    "\n",
    "If you are working on one of the UO HPCL lab servers, you can use preinstalled tools and so can skip this step. See the [HPCL Machines](HPCL_Machines.ipynb) notebook for instructions.\n",
    "\n",
    "## TAU Commander: Getting Started\n",
    "The first thing we will learn is how to use TAU Commander to collect and organize performance analysis data. This guide is intended as a simple overview of the TAU Commander tool from Paratools http://taucommander.paratools.com/ for people unfamiliar with [TAU](https://www.cs.uoregon.edu/research/tau/home.php) or performance analysis in general. The authors of the TAU Commander provide much more comprehensive user guides.\n",
    "\n",
    "In this tutorial, we will work with the P2Z benchmark, which you can obtain with:\n",
    "```\n",
    "git clone https://github.com/HPCL/p2z-tests.git\n",
    "cd p2z-tests\n",
    "```\n",
    "Subsequent work will take place in the p2z-tests directory tree. Make sure that the installed `taucmdr/bin` directory is in your path."
   ]
  },
  {
   "cell_type": "markdown",
   "metadata": {},
   "source": [
    "## TAU Commander's Hierarchy of Performance Measurements\n",
    "\n",
    "TAU Commander organizes performance measurement into a set of categories intended to simplify the process of setting up performance data gathering and encourage reuse of settings between experiments.\n",
    "\n",
    "* project - top level organization\n",
    "* target - hardware environment plus measurement libraries like Papi\n",
    "* application - program to test; defines what libraries and measurement techniques\n",
    "* measurements\n",
    "* experiments\n",
    "* trials\n",
    "\n",
    "Measurements can be configured to capture different metrics (time, hardware counters) at different granularities (functions, loops, custom regions). Typically, separate measurements are produced for each thread in a multi-threaded application and each MPI task for codes based on MPI. TAU also supports GPU measurement."
   ]
  },
  {
   "cell_type": "markdown",
   "metadata": {},
   "source": [
    "## Project\n",
    "\n",
    "The *project* is the big umbrella that keeps everything together. It exists as a .tau directory in the directory (folder) where you create your performance experiments. Typically, TAU Commander will automatically install TAU in this `.tau` subdirectory, as well as organize the measured data in folders that store standard TAU profile files, and XML/JSON files that help TAU remeber where it put everything.\n",
    "\n",
    "To initialize a project simply type the comand below in the directory where you wish to run your performance experiments. In your `p2z-tests` directory, create an experiments subdirectory where all subsequent steps will be taking place. Note that if this is the first time you are using TAU with TAU Commander, `tau init` may take a long time since it is downloading and building multiple versions of TAU, depending on the options provided. To see a full list of options for tau init, use `tau init --help`. Here, we choose to not initialize any default target and measurement options, and also specify the use the sqlite for storing performance data (instead of the default ASCII profiles). "
   ]
  },
  {
   "cell_type": "markdown",
   "metadata": {},
   "source": [
    "```\n",
    "mkdir experiments\n",
    "cd experiments\n",
    "tau init --backend sqlite --bare # results will be generated using sqlite format\n",
    "```"
   ]
  },
  {
   "cell_type": "markdown",
   "metadata": {},
   "source": [
    "![alt text](images/dash.png \"TAU Commander Dashboard\")"
   ]
  },
  {
   "cell_type": "markdown",
   "metadata": {},
   "source": [
    "To view your current project configuration at any point, use the `tau dash` command."
   ]
  },
  {
   "cell_type": "markdown",
   "metadata": {},
   "source": [
    "## Target\n",
    "\n",
    "The *target* defines system information including OS, architecture, compilers, and external libraries, e.g., PAPI (which is needed for hardware counter data collection). Most of this information TAU can figure out on its own, but it often needs help finding a papi installation. Also, if you want to use source instrumentation add the '--pdt' flag to let TAU know.\n",
    "\n",
    "Initially, our goal is to do simple timing, so we will create a target without any external tools. The target name can be anything, but it helps to associate it with the machine name or type. For example, on a machine named `arya` using `gcc` compilers, we could create the target as follows:\n",
    "```\n",
    "tau target create arya_gcc\n",
    "```"
   ]
  },
  {
   "cell_type": "markdown",
   "metadata": {
    "jupyter": {
     "outputs_hidden": true
    }
   },
   "source": [
    "Later we can create more targets with support for PAPI counters or instrumentation (with PDT), e.g.,\n",
    "```\n",
    "tau target create arya_gcc_papi --papi /path/to/papi\n",
    "tau target create arya_gcc_papi_pdt --papi /path/to/papi --pdt\n",
    "```"
   ]
  },
  {
   "cell_type": "markdown",
   "metadata": {},
   "source": [
    "## Application\n",
    "\n",
    "### Building the application\n",
    "Build the OpenMP version of the p2z benchmark with g++ (you can also build with any other C++ compiler that supports OpenMP), do the following in your `p2z-tests/experiments` directory (created earlier):\n",
    "```\n",
    "g++ -g -O3 -fopenmp -Dnthreads=1 -o p2z_omp_01 ../src_complete/propagate-toz-test_OMP.cpp\n",
    "```\n",
    "Note that p2z requires recompilation to modify the number of threads, so in the above case, the executable will run with one thread regardless of the OMP_NUM_THREADS environment variable setting. We can create other versions, e.g., one that uses 2 threads by modifying the nthreads value, e.g.:\n",
    "```\n",
    "g++ -g -O3 -fopenmp -Dnthreads=2 -o p2z_omp_02 ../src_complete/propagate-toz-test_OMP.cpp\n",
    "```\n",
    "\n",
    "### Creating the TAU Commander Application metadata\n",
    "Application defines application specific needs such as OpenMP, MPI, TBB, etc.\n",
    "Note the 'T' after --tbb is for 'True'. To see all available options, run `tau application create --help`. Here, we will create an application configuration for OpenMP:"
   ]
  },
  {
   "cell_type": "markdown",
   "metadata": {},
   "source": [
    "```\n",
    "tau application create p2z_omp --ompt T \n",
    "```"
   ]
  },
  {
   "cell_type": "markdown",
   "metadata": {},
   "source": [
    "## Measurements\n",
    "\n",
    "Measurements define what and how a run should record data. This includes sampling (currently recomended for this application) vs intrumentation, recording callpaths, how to store data, and most improtant what metric to measure. For TAU and our libraries to work correctly TIME must always be included and only one other metric should be measuremed at a time.\n",
    "\n",
    "Below we have some examples of defining measurements. The --callpath 100 option is assumed by default and tells tau to record callpaths to a depth of 100."
   ]
  },
  {
   "cell_type": "markdown",
   "metadata": {
    "jupyter": {
     "outputs_hidden": true
    }
   },
   "source": [
    "```\n",
    "tau measurement create sample_ins_cyc --sample T --callsite T --metrics TIME PAPI_TOT_INS\n",
    "```"
   ]
  },
  {
   "cell_type": "markdown",
   "metadata": {},
   "source": [
    "## Experiments\n",
    "\n",
    "Within a project Experiments are the primary organizational feature. Each experiment combines an application, target, and measurement so that it has all the information to run tau on your program. As a result, tau Makefiles are stored at the experiment level. \n"
   ]
  },
  {
   "cell_type": "markdown",
   "metadata": {},
   "source": [
    "```\n",
    "tau experiment create sampling --application p2z_omp --measurement sample_ins_cyc --target arya_papi\n",
    "```"
   ]
  },
  {
   "cell_type": "markdown",
   "metadata": {},
   "source": [
    "## Trials\n",
    "\n",
    "Program runs are called *trials*, each of which is associated with the experiment that is currently selected when the trial is created. The trials in each experiment are numbered sequentially starting at 0 and the resulting data is stored as tau profiles. To create a trial, you need to specify the exact command that runs your application: `tau trial create COMMAND`. You must include all required command-line arguments in the COMMAND string."
   ]
  },
  {
   "cell_type": "markdown",
   "metadata": {},
   "source": [
    "```\n",
    "tau trial create [CMD]|\n",
    "tau trial create p2z_gcc_omp\n",
    "```"
   ]
  },
  {
   "cell_type": "markdown",
   "metadata": {},
   "source": [
    "## Workflow and Data Organization"
   ]
  },
  {
   "cell_type": "markdown",
   "metadata": {},
   "source": [
    " Once you decide to use Tau Performance Analysis for your program you can essentially follow this notebook from the top down.\n",
    " * Initialize the TAU Commander project\n",
    " * define the target system(s) and whether or not you wish to use pdt\n",
    " * define the application scenario (MPI, TBB, etc)\n",
    " * define all the measurements you want\n",
    " If you would like to go back later and add new measurements, systems or perhaps expand your program to include MPI this is a simple matter of creating new measurements, targets, OR applications\n",
    "   * changes to the above definitions will not impact the others\n",
    "   * Experiments on the other hand must be recreated if the underlying targets, measurements or applicaitons are altered"
   ]
  },
  {
   "cell_type": "markdown",
   "metadata": {},
   "source": [
    "When creating experiments the goal is to consider what types of runs you will want to measure and limit experiments to varying one parameters per each. For example, we used the following experiments (and others) to explore the p2z benchmark.\n",
    "* TODO"
   ]
  }
 ],
 "metadata": {
  "kernelspec": {
   "display_name": "Python 3",
   "language": "python",
   "name": "python3"
  },
  "language_info": {
   "codemirror_mode": {
    "name": "ipython",
    "version": 3
   },
   "file_extension": ".py",
   "mimetype": "text/x-python",
   "name": "python",
   "nbconvert_exporter": "python",
   "pygments_lexer": "ipython3",
   "version": "3.8.3"
  }
 },
 "nbformat": 4,
 "nbformat_minor": 4
}
