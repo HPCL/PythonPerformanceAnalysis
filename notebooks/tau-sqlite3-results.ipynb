{
 "cells": [
  {
   "cell_type": "markdown",
   "metadata": {},
   "source": [
    "# Using TAU sqlite3 profile format with Pandas.\n",
    "\n",
    "In this notebook, we show how to work with sqlite3 TAU profiles. Python 3.8\n",
    "or later is recommended."
   ]
  },
  {
   "cell_type": "code",
   "execution_count": 5,
   "metadata": {
    "pycharm": {
     "name": "#%%\n"
    }
   },
   "outputs": [],
   "source": [
    "import pandas as pd\n",
    "import sqlite3\n",
    "from tabulate import tabulate  # for scrollable wide dataframe output in PyCharm\n",
    "\n",
    "pd.set_option('display.max_columns', 12)\n",
    "pd.set_option('display.width', None)"
   ]
  },
  {
   "cell_type": "markdown",
   "metadata": {
    "pycharm": {
     "name": "#%% md\n"
    }
   },
   "source": [
    "## Straight from the database\n",
    "First, we import the TAU sqlite3 database into pandas dataframes. Here we have an\n",
    "experiment that involves hybrid CPU/GPU computation. We used TAU Commander configured\n",
    "with cupti to collect GPU details. We get the list of\n",
    "tables, then import all data. We could be more selective with our queries, but for now we are exploring. At the end, we have the `df_dict` with the following keys:\n",
    "```trial\n",
    "thread\n",
    "metric\n",
    "timer\n",
    "timer_value\n",
    "counter\n",
    "counter_value\n",
    "metadata\n",
    "```\n"
   ]
  },
  {
   "cell_type": "code",
   "execution_count": 10,
   "metadata": {
    "collapsed": false,
    "jupyter": {
     "outputs_hidden": false
    },
    "pycharm": {
     "name": "#%%\n"
    }
   },
   "outputs": [],
   "source": [
    "# Create a SQL connection to our SQLite database\n",
    "con = sqlite3.connect(\"data/tauprofile.db\")\n",
    "c = con.cursor()\n",
    "\n",
    "tables = pd.read_sql_query(\"SELECT * FROM sqlite_master WHERE type ='table' AND name NOT LIKE 'sqlite_%';\", con)\n",
    "df_dict = {}\n",
    "for table in tables[\"name\"]: \n",
    "    print(f\"Dataframe corresponding to SQL table {table}:\")\n",
    "    df_dict[table] = pd.read_sql_query(\"SELECT * from %s\" % table, con)\n",
    "    print(tabulate(df_dict[table],headers='firstrow'))\n",
    "    print(\"\")\n",
    "con.close()\n",
    "\n"
   ]
  },
  {
   "cell_type": "markdown",
   "source": [
    "# TAU2 parsing and visualization of sqlite3 files\n",
    "\n",
    "The rest of this notebook is based on this [example](https://github\n",
    ".com/UO-OACISS/tau2/tree/1030b79cef13d13a63feb8e04832945a6df27647/examples/plugin\n",
    "/sqlite3)."
   ],
   "metadata": {
    "collapsed": false,
    "pycharm": {
     "name": "#%% md\n"
    }
   }
  },
  {
   "cell_type": "code",
   "execution_count": null,
   "outputs": [],
   "source": [
    "# Experiment = (Target, Application, Measurement)"
   ],
   "metadata": {
    "collapsed": false,
    "pycharm": {
     "name": "#%%\n"
    }
   }
  },
  {
   "cell_type": "code",
   "execution_count": null,
   "outputs": [],
   "source": [],
   "metadata": {
    "collapsed": false,
    "pycharm": {
     "name": "#%%\n"
    }
   }
  },
  {
   "cell_type": "code",
   "execution_count": null,
   "metadata": {
    "collapsed": false,
    "jupyter": {
     "outputs_hidden": false
    },
    "pycharm": {
     "name": "#%%\n"
    }
   },
   "outputs": [],
   "source": []
  }
 ],
 "metadata": {
  "kernelspec": {
   "display_name": "Python 3",
   "language": "python",
   "name": "python3"
  },
  "language_info": {
   "codemirror_mode": {
    "name": "ipython",
    "version": 3
   },
   "file_extension": ".py",
   "mimetype": "text/x-python",
   "name": "python",
   "nbconvert_exporter": "python",
   "pygments_lexer": "ipython3",
   "version": "3.9.2"
  }
 },
 "nbformat": 4,
 "nbformat_minor": 4
}