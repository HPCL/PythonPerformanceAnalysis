{
 "cells": [
  {
   "cell_type": "markdown",
   "metadata": {},
   "source": [
    "# Plotting Rooflines from Counters\n",
    "\n",
    "Brian Gravelle\n",
    "October 2020\n",
    "\n",
    "LANL\n",
    "\n",
    "gravelle@lanl.gov"
   ]
  },
  {
   "cell_type": "code",
   "execution_count": 1,
   "metadata": {},
   "outputs": [],
   "source": [
    "import pandas as pd\n",
    "import numpy as np\n",
    "import matplotlib.pyplot as plt\n",
    "\n",
    "\n",
    "\n",
    "pd.set_option(\"display.max_columns\", 0) # don't truncate columns\n",
    "pd.set_option(\"display.max_colwidth\", 0) # don't truncate column values\n"
   ]
  },
  {
   "cell_type": "markdown",
   "metadata": {},
   "source": [
    "\n",
    "# Log Log Plot example"
   ]
  },
  {
   "cell_type": "code",
   "execution_count": 2,
   "metadata": {
    "scrolled": true
   },
   "outputs": [
    {
     "data": {
      "image/png": "[encoded data removed]",
      "text/plain": [
       "<Figure size 432x288 with 1 Axes>"
      ]
     },
     "metadata": {
      "needs_background": "light"
     },
     "output_type": "display_data"
    }
   ],
   "source": [
    "\n",
    "t = np.arange(0.01, 20.0, 0.01)\n",
    "f_t = 20 * np.exp(-t / 10.0)\n",
    "\n",
    "plt.loglog(t, f_t)\n",
    "plt.ylabel('GFLOPs/s')\n",
    "plt.xlabel('Arithmetic Intensity')\n",
    "plt.show()\n"
   ]
  },
  {
   "cell_type": "markdown",
   "metadata": {},
   "source": [
    "\n",
    "# Roofline Plot instructions"
   ]
  },
  {
   "cell_type": "markdown",
   "metadata": {},
   "source": [
    "\n",
    "### Getting the data from ERT:\n",
    "\n",
    "After running the ert to your satisfaction on your target system,you can look\n",
    "in the results directory under Run.00X and locate a roofline.gnu file. This file\n",
    "is a script for gnuplot to make the ert plots and holds the data we need to make\n",
    "our roofline plots.\n",
    "\n",
    "Pull the data from the roofline.gnu plot file (example below). Note that your\n",
    "file may have additional spots for mre cache levels. Adding additional levels \n",
    "should be easy, but we recommend reworking your ERT config if more than 3 \n",
    "appear. These lines appear near the bottom of the file.\n",
    "\n",
    "#### gnuplot format:\n",
    "     \n",
    "     set label '[peak FLOPs] GFLOPs/sec (Maximum)' at 2.0000000e+00,3.3952560e+03 left textcolor rgb '#000080'\n",
    "     set label 'L1 - [L1 slope] GB/s' at 4.6924019e-02,4.6870291e+02 left rotate by 45 textcolor rgb '#800000'\n",
    "     set label 'L2 - [L2 slope] GB/s' at 6.8638376e-02,3.2042460e+02 left rotate by 45 textcolor rgb '#800000'\n",
    "     set label 'DRAM - [ext mem slope] GB/s' at 2.655384e-01,6.438239e+01 left rotate by 45 textcolor rgb '#800000'\n",
    "     plot \\\n",
    "     (x <= [L1 max AI (corner)] ? 8.2550000e+03 * x : 1/0) lc 1 lw 2,\\\n",
    "     (x <= [L2 max AI (corner)] ? 3.8581000e+03 * x : 1/0) lc 1 lw 2,\\\n",
    "     (x <= [Ext Mem max AI (corner)] ? 2.0038000e+02 * x : 1/0) lc 1 lw 2,\\\n",
    "     (x >= [starting point for peak] ? 2.8293800e+03 : 1/0) lc 3 lw 2\n",
    "\n",
    "#### gnuplot example:\n",
    "     \n",
    "     set label '2829.4 GFLOPs/sec (Maximum)' at 2.0000000e+00,3.3952560e+03 left textcolor rgb '#000080'\n",
    "     set label 'L1 - 8255.0 GB/s' at 4.6924019e-02,4.6870291e+02 left rotate by 45 textcolor rgb '#800000'\n",
    "     set label 'L2 - 3858.1 GB/s' at 6.8638376e-02,3.2042460e+02 left rotate by 45 textcolor rgb '#800000'\n",
    "     set label 'DRAM - 200.4 GB/s' at 2.6553840e-01,6.4382388e+01 left rotate by 45 textcolor rgb '#800000'\n",
    "     plot \\\n",
    "     (x <= 3.4274743e-01 ? 8.2550000e+03 * x : 1/0) lc 1 lw 2,\\\n",
    "     (x <= 7.3336098e-01 ? 3.8581000e+03 * x : 1/0) lc 1 lw 2,\\\n",
    "     (x <= 1.4120072e+01 ? 2.0038000e+02 * x : 1/0) lc 1 lw 2,\\\n",
    "     (x >= 3.4274743e-01 ? 2.8293800e+03 : 1/0) lc 3 lw 2\n"
   ]
  },
  {
   "cell_type": "markdown",
   "metadata": {},
   "source": [
    "### Making the roofline\n",
    "\n",
    "Grabbing the data as described above, you can fill it in to the below variables.\n",
    "Note that you may need to comment out some of the lines depending on how many caches are available on your system."
   ]
  },
  {
   "cell_type": "code",
   "execution_count": 34,
   "metadata": {},
   "outputs": [],
   "source": [
    "peak = 638.5\n",
    "\n",
    "# L1_corner  = 3.4274743e-01\n",
    "# L1_slope   = 8255.00\n",
    "# L1_inter   = peak - L1_slope*L1_corner\n",
    "# L2_corner  = 7.3336098e-01\n",
    "# L2_slope   = 3858.1\n",
    "# L2_inter   = peak - L2_slope*L2_corner\n",
    "# L3_corner  = 0\n",
    "# L3_slope   = 0\n",
    "# L3_inter   = peak - L3_slope*L3_corner\n",
    "mem_corner = 7.7023946e-01\n",
    "mem_slope  = 829.0\n",
    "mem_inter  = peak - mem_slope*mem_corner\n",
    "\n",
    "peak_start = mem_corner\n",
    "# peak_start = L1_corner\n",
    "peak_ai = np.arange(peak_start, 500.0, 0.01)\n",
    "# L1_ai   = np.arange(0.01, L1_corner, 0.01)\n",
    "# L2_ai   = np.arange(0.01, L2_corner, 0.01)\n",
    "# L3_ai   = np.arange(0.01, L3_corner, 0.01)\n",
    "mem_ai  = np.arange(0.01, mem_corner, 0.01)\n",
    "\n",
    "peak_GFlops = [ peak for ai in peak_ai]\n",
    "# L1_GFlops = [ L1_slope*ai+L1_inter for ai in L1_ai]\n",
    "# L2_GFlops = [ L2_slope*ai+L2_inter for ai in L2_ai]\n",
    "# L3_GFlops = [ L3_slope*ai+L3_inter for ai in L3_ai]\n",
    "mem_GFlops = [ mem_slope*ai+mem_inter for ai in mem_ai]"
   ]
  },
  {
   "cell_type": "markdown",
   "metadata": {},
   "source": [
    "### Adding the dots\n",
    "\n",
    "The list below details the dots that get added to the roofline. Each dot represents a different version of the application so the user can compare how changes to the application impact performance."
   ]
  },
  {
   "cell_type": "code",
   "execution_count": 44,
   "metadata": {},
   "outputs": [],
   "source": [
    "dot_li = []\n",
    "\n",
    "# points are ai, gflop, time (s), label\n",
    "point_1 = (0.1, 100, 10,\"random point\")\n",
    "point_2 = (0.3, 100, 5,\"random point\")\n",
    "point_3 = (1.0, 100, 1,\"random point\")\n",
    "point_4 = (20, 100, 2,\"random point\")\n",
    "point_5 = (90, 150, 1,\"random point\")\n",
    "\n",
    "# points are ai, gflops, dot, label\n",
    "dot_li.append((point_1[0], point_1[1]/point_1[2], 'yo', point_1[3]))\n",
    "dot_li.append((point_2[0], point_2[1]/point_2[2], 'yo', point_2[3]))\n",
    "dot_li.append((point_3[0], point_3[1]/point_3[2], 'yo', point_3[3]))\n",
    "dot_li.append((point_4[0], point_4[1]/point_4[2], 'yo', point_4[3]))\n",
    "dot_li.append((point_5[0], point_5[1]/point_5[2], 'yo', point_5[3]))"
   ]
  },
  {
   "cell_type": "markdown",
   "metadata": {},
   "source": [
    "### Plotting the Roofline\n",
    "\n",
    "This block runs the plotting of the above inputs."
   ]
  },
  {
   "cell_type": "code",
   "execution_count": 45,
   "metadata": {
    "scrolled": true
   },
   "outputs": [
    {
     "data": {
      "image/png": "[encoded data removed]",
      "text/plain": [
       "<Figure size 432x288 with 1 Axes>"
      ]
     },
     "metadata": {
      "needs_background": "light"
     },
     "output_type": "display_data"
    }
   ],
   "source": [
    "fig = plt.figure()\n",
    "roof = fig.add_subplot(1, 1, 1)\n",
    "roof.loglog(peak_ai, peak_GFlops, label=(\"Peak GFlops %.1f\"%peak))\n",
    "# roof.loglog(L1_ai, L1_GFlops, label=(\"L1 cache BW %f.1\"%mem_slope))\n",
    "# roof.loglog(L2_ai, L2_GFlops, label=(\"L2 cache BW %f.1\"%mem_slope))\n",
    "# roof.loglog(L3_ai, L3_GFlops, label=(\"L3 cache BW %f.1\"%mem_slope))\n",
    "roof.loglog(mem_ai, mem_GFlops, label=(\"Memory BW %.1f\"%mem_slope))\n",
    "roof.set_ylabel('GFLOPs/s')\n",
    "roof.set_xlabel('Arithmetic Intensity')\n",
    "\n",
    "for dot in dot_li:\n",
    "    roof.loglog(dot[0],dot[1],dot[2],label=dot[3])\n",
    "\n",
    "temp = roof.legend(loc=\"center left\", bbox_to_anchor=(1.0,0.5))"
   ]
  },
  {
   "cell_type": "code",
   "execution_count": null,
   "metadata": {},
   "outputs": [],
   "source": []
  }
 ],
 "metadata": {
  "kernelspec": {
   "display_name": "Python 2",
   "language": "python",
   "name": "python2"
  },
  "language_info": {
   "codemirror_mode": {
    "name": "ipython",
    "version": 2
   },
   "file_extension": ".py",
   "mimetype": "text/x-python",
   "name": "python",
   "nbconvert_exporter": "python",
   "pygments_lexer": "ipython2",
   "version": "2.7.18"
  }
 },
 "nbformat": 4,
 "nbformat_minor": 2
}
